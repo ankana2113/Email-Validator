{
 "cells": [
  {
   "cell_type": "code",
   "execution_count": 1,
   "id": "98270373",
   "metadata": {},
   "outputs": [
    {
     "name": "stdout",
     "output_type": "stream",
     "text": [
      "Hello world\n"
     ]
    }
   ],
   "source": [
    "print('Hello world')"
   ]
  },
  {
   "cell_type": "code",
   "execution_count": 2,
   "id": "f0791465",
   "metadata": {},
   "outputs": [],
   "source": [
    "import pandas as pd\n",
    "import numpy as np\n",
    "from disposable_email_domains import blocklist\n",
    "import tkinter as tk\n",
    "from tkinter import filedialog, messagebox"
   ]
  },
  {
   "cell_type": "code",
   "execution_count": 3,
   "id": "d9978c10",
   "metadata": {},
   "outputs": [],
   "source": [
    "# Extracting domains from email addresses\n",
    "def is_disposable_email(email, disposable_domains):\n",
    "    domain = email.split('@')[-1]\n",
    "    return domain in disposable_domains"
   ]
  },
  {
   "cell_type": "code",
   "execution_count": 4,
   "id": "5c567580",
   "metadata": {},
   "outputs": [],
   "source": [
    "def process_emails(input_file):\n",
    "    try:\n",
    "        # load input file from user\n",
    "        df = pd.read_excel(input_file)\n",
    "    \n",
    "        # Assume the email addresses are in a column named 'Email'\n",
    "        if 'Email' not in df.columns:\n",
    "            raise ValueError(\"The input file must contain a column named 'Email'\")\n",
    "    \n",
    "        disposable_domains = set(blocklist)\n",
    "    \n",
    "        # Separating the emails\n",
    "        disposable_emails = df[df['Emails'].apply(lambda email:is_disposable_email(email, disposable_domains))]\n",
    "        valid_emails = df[~df['Emails'].apply(lambda email:is_disposable_email(email, disposable_domains))]\n",
    "        \n",
    "        # Write to new excel files\n",
    "        disposable_emails.to_excel('DisposableEmails.xlsx', index=False)\n",
    "        non_disposable_emails.to_excel('ValidEmails.xlsx', index=False)\n",
    "    \n",
    "        # Displaying success message\n",
    "        messagebox.showinfo('Successful.', \"Processing complete. Files saved as 'DisposableEmails.xlsx' and 'ValidEmails.xlsx'.\")\n",
    "    \n",
    "    except Exception as e:\n",
    "        # Error message\n",
    "        messagebox.showerror(\"Error\", str(e))"
   ]
  },
  {
   "cell_type": "code",
   "execution_count": 5,
   "id": "b725004b",
   "metadata": {},
   "outputs": [],
   "source": [
    "def browse_file():\n",
    "    file_path = filedialog.askopenfilename(filetypes=[(\"Excel files\", \"*.xlsx *.xls\")])\n",
    "    if file_path:\n",
    "        process_emails(file_path)"
   ]
  },
  {
   "cell_type": "code",
   "execution_count": null,
   "id": "bb8ebcb3",
   "metadata": {},
   "outputs": [],
   "source": [
    "# Set up the GUI\n",
    "root = tk.Tk()\n",
    "root.title(\"Email Processor\")\n",
    "\n",
    "canvas = tk.Canvas(root, height=200, width=400)\n",
    "canvas.pack()\n",
    "\n",
    "frame = tk.Frame(root, bg=\"white\")\n",
    "frame.place(relwidth=0.8, relheight=0.8, relx=0.1, rely=0.1)\n",
    "\n",
    "label = tk.Label(frame, text=\"Select an Excel file to process\", bg=\"white\")\n",
    "label.pack(pady=20)\n",
    "\n",
    "button = tk.Button(frame, text=\"Browse\", padx=10, pady=5, fg=\"white\", bg=\"#263D42\", command=browse_file)\n",
    "button.pack()\n",
    "\n",
    "root.mainloop()"
   ]
  },
  {
   "cell_type": "code",
   "execution_count": null,
   "id": "41b4db33",
   "metadata": {},
   "outputs": [],
   "source": []
  }
 ],
 "metadata": {
  "kernelspec": {
   "display_name": "Python 3 (ipykernel)",
   "language": "python",
   "name": "python3"
  },
  "language_info": {
   "codemirror_mode": {
    "name": "ipython",
    "version": 3
   },
   "file_extension": ".py",
   "mimetype": "text/x-python",
   "name": "python",
   "nbconvert_exporter": "python",
   "pygments_lexer": "ipython3",
   "version": "3.11.5"
  }
 },
 "nbformat": 4,
 "nbformat_minor": 5
}
